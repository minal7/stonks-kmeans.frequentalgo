{
 "cells": [
  {
   "cell_type": "code",
   "execution_count": 4,
   "metadata": {
    "collapsed": true
   },
   "outputs": [],
   "source": [
    "import yfinance as yf\n",
    "import pandas as pd\n"
   ]
  },
  {
   "cell_type": "code",
   "execution_count": 16,
   "outputs": [
    {
     "name": "stdout",
     "output_type": "stream",
     "text": [
      "[*********************100%***********************]  1 of 1 completed\n"
     ]
    },
    {
     "data": {
      "text/plain": "Options(calls=         contractSymbol             lastTradeDate  strike  lastPrice  bid   \n0    SPY230414C00255000 2023-04-12 17:33:18+00:00   255.0     156.55  0.0  \\\n1    SPY230414C00260000 2023-03-30 14:02:56+00:00   260.0     144.27  0.0   \n2    SPY230414C00280000 2023-04-12 18:07:30+00:00   280.0     131.38  0.0   \n3    SPY230414C00295000 2023-03-23 18:39:06+00:00   295.0      98.26  0.0   \n4    SPY230414C00300000 2023-04-10 15:31:36+00:00   300.0     107.70  0.0   \n..                  ...                       ...     ...        ...  ...   \n109  SPY230414C00475000 2023-03-27 15:23:23+00:00   475.0       0.01  0.0   \n110  SPY230414C00480000 2023-03-28 13:30:11+00:00   480.0       0.01  0.0   \n111  SPY230414C00485000 2023-03-08 14:38:20+00:00   485.0       0.01  0.0   \n112  SPY230414C00490000 2023-03-28 13:30:11+00:00   490.0       0.01  0.0   \n113  SPY230414C00500000 2023-04-12 13:30:35+00:00   500.0       0.01  0.0   \n\n      ask  change  percentChange  volume  openInterest  impliedVolatility   \n0    0.00     0.0            0.0     4.0             0           0.000010  \\\n1    0.00     0.0            0.0    13.0             0           0.000010   \n2    0.00     0.0            0.0     8.0             0           0.000010   \n3    0.00     0.0            0.0     NaN             0           0.000010   \n4    0.00     0.0            0.0     2.0             0           0.000010   \n..    ...     ...            ...     ...           ...                ...   \n109  0.00     0.0            0.0     2.0             0           0.500005   \n110  0.00     0.0            0.0     1.0             0           0.500005   \n111  0.01     0.0            0.0     NaN           325           0.734378   \n112  0.00     0.0            0.0     NaN             0           0.500005   \n113  0.00     0.0            0.0     1.0             0           0.500005   \n\n     inTheMoney contractSize currency  \n0          True      REGULAR      USD  \n1          True      REGULAR      USD  \n2          True      REGULAR      USD  \n3          True      REGULAR      USD  \n4          True      REGULAR      USD  \n..          ...          ...      ...  \n109       False      REGULAR      USD  \n110       False      REGULAR      USD  \n111       False      REGULAR      USD  \n112       False      REGULAR      USD  \n113       False      REGULAR      USD  \n\n[114 rows x 14 columns], puts=         contractSymbol             lastTradeDate  strike  lastPrice  bid   \n0    SPY230414P00255000 2023-04-12 19:46:03+00:00   255.0       0.01  0.0  \\\n1    SPY230414P00260000 2023-04-12 17:01:28+00:00   260.0       0.01  0.0   \n2    SPY230414P00265000 2023-04-04 19:41:47+00:00   265.0       0.01  0.0   \n3    SPY230414P00270000 2023-03-31 19:52:18+00:00   270.0       0.01  0.0   \n4    SPY230414P00275000 2023-03-31 20:12:23+00:00   275.0       0.01  0.0   \n..                  ...                       ...     ...        ...  ...   \n112  SPY230414P00448000 2023-04-06 15:20:53+00:00   448.0      40.80  0.0   \n113  SPY230414P00450000 2023-04-12 18:52:35+00:00   450.0      41.42  0.0   \n114  SPY230414P00470000 2023-03-21 13:50:04+00:00   470.0      72.52  0.0   \n115  SPY230414P00490000 2023-03-31 19:40:33+00:00   490.0      81.73  0.0   \n116  SPY230414P00500000 2023-04-12 19:24:55+00:00   500.0      92.20  0.0   \n\n     ask  change  percentChange  volume  openInterest  impliedVolatility   \n0    0.0     0.0            0.0     1.0             0           0.500005  \\\n1    0.0     0.0            0.0     1.0             0           0.500005   \n2    0.0     0.0            0.0     3.0             0           0.500005   \n3    0.0     0.0            0.0     6.0             0           0.500005   \n4    0.0     0.0            0.0    35.0             0           0.500005   \n..   ...     ...            ...     ...           ...                ...   \n112  0.0     0.0            0.0     1.0             0           0.000010   \n113  0.0     0.0            0.0    78.0             0           0.000010   \n114  0.0     0.0            0.0     NaN             0           0.000010   \n115  0.0     0.0            0.0    10.0             0           0.000010   \n116  0.0     0.0            0.0     1.0             0           0.000010   \n\n     inTheMoney contractSize currency  \n0         False      REGULAR      USD  \n1         False      REGULAR      USD  \n2         False      REGULAR      USD  \n3         False      REGULAR      USD  \n4         False      REGULAR      USD  \n..          ...          ...      ...  \n112        True      REGULAR      USD  \n113        True      REGULAR      USD  \n114        True      REGULAR      USD  \n115        True      REGULAR      USD  \n116        True      REGULAR      USD  \n\n[117 rows x 14 columns])"
     },
     "execution_count": 16,
     "metadata": {},
     "output_type": "execute_result"
    }
   ],
   "source": [
    "# Get the data for the stock AAPL\n",
    "data = yf.download('AAPL','2019-01-01','2020-01-01')\n",
    "\n",
    "#get options data for appl for this friday\n",
    "options = yf.Ticker(\"SPY\").option_chain('2023-04-14')\n",
    "\n",
    "options\n"
   ],
   "metadata": {
    "collapsed": false
   }
  },
  {
   "cell_type": "code",
   "execution_count": 17,
   "outputs": [
    {
     "data": {
      "text/plain": "         contractSymbol             lastTradeDate  strike  lastPrice  bid   \n0    SPY230414C00255000 2023-04-12 17:33:18+00:00   255.0     156.55  0.0  \\\n1    SPY230414C00260000 2023-03-30 14:02:56+00:00   260.0     144.27  0.0   \n2    SPY230414C00280000 2023-04-12 18:07:30+00:00   280.0     131.38  0.0   \n3    SPY230414C00295000 2023-03-23 18:39:06+00:00   295.0      98.26  0.0   \n4    SPY230414C00300000 2023-04-10 15:31:36+00:00   300.0     107.70  0.0   \n..                  ...                       ...     ...        ...  ...   \n109  SPY230414C00475000 2023-03-27 15:23:23+00:00   475.0       0.01  0.0   \n110  SPY230414C00480000 2023-03-28 13:30:11+00:00   480.0       0.01  0.0   \n111  SPY230414C00485000 2023-03-08 14:38:20+00:00   485.0       0.01  0.0   \n112  SPY230414C00490000 2023-03-28 13:30:11+00:00   490.0       0.01  0.0   \n113  SPY230414C00500000 2023-04-12 13:30:35+00:00   500.0       0.01  0.0   \n\n      ask  change  percentChange  volume  openInterest  impliedVolatility   \n0    0.00     0.0            0.0     4.0             0           0.000010  \\\n1    0.00     0.0            0.0    13.0             0           0.000010   \n2    0.00     0.0            0.0     8.0             0           0.000010   \n3    0.00     0.0            0.0     NaN             0           0.000010   \n4    0.00     0.0            0.0     2.0             0           0.000010   \n..    ...     ...            ...     ...           ...                ...   \n109  0.00     0.0            0.0     2.0             0           0.500005   \n110  0.00     0.0            0.0     1.0             0           0.500005   \n111  0.01     0.0            0.0     NaN           325           0.734378   \n112  0.00     0.0            0.0     NaN             0           0.500005   \n113  0.00     0.0            0.0     1.0             0           0.500005   \n\n     inTheMoney contractSize currency  \n0          True      REGULAR      USD  \n1          True      REGULAR      USD  \n2          True      REGULAR      USD  \n3          True      REGULAR      USD  \n4          True      REGULAR      USD  \n..          ...          ...      ...  \n109       False      REGULAR      USD  \n110       False      REGULAR      USD  \n111       False      REGULAR      USD  \n112       False      REGULAR      USD  \n113       False      REGULAR      USD  \n\n[114 rows x 14 columns]",
      "text/html": "<div>\n<style scoped>\n    .dataframe tbody tr th:only-of-type {\n        vertical-align: middle;\n    }\n\n    .dataframe tbody tr th {\n        vertical-align: top;\n    }\n\n    .dataframe thead th {\n        text-align: right;\n    }\n</style>\n<table border=\"1\" class=\"dataframe\">\n  <thead>\n    <tr style=\"text-align: right;\">\n      <th></th>\n      <th>contractSymbol</th>\n      <th>lastTradeDate</th>\n      <th>strike</th>\n      <th>lastPrice</th>\n      <th>bid</th>\n      <th>ask</th>\n      <th>change</th>\n      <th>percentChange</th>\n      <th>volume</th>\n      <th>openInterest</th>\n      <th>impliedVolatility</th>\n      <th>inTheMoney</th>\n      <th>contractSize</th>\n      <th>currency</th>\n    </tr>\n  </thead>\n  <tbody>\n    <tr>\n      <th>0</th>\n      <td>SPY230414C00255000</td>\n      <td>2023-04-12 17:33:18+00:00</td>\n      <td>255.0</td>\n      <td>156.55</td>\n      <td>0.0</td>\n      <td>0.00</td>\n      <td>0.0</td>\n      <td>0.0</td>\n      <td>4.0</td>\n      <td>0</td>\n      <td>0.000010</td>\n      <td>True</td>\n      <td>REGULAR</td>\n      <td>USD</td>\n    </tr>\n    <tr>\n      <th>1</th>\n      <td>SPY230414C00260000</td>\n      <td>2023-03-30 14:02:56+00:00</td>\n      <td>260.0</td>\n      <td>144.27</td>\n      <td>0.0</td>\n      <td>0.00</td>\n      <td>0.0</td>\n      <td>0.0</td>\n      <td>13.0</td>\n      <td>0</td>\n      <td>0.000010</td>\n      <td>True</td>\n      <td>REGULAR</td>\n      <td>USD</td>\n    </tr>\n    <tr>\n      <th>2</th>\n      <td>SPY230414C00280000</td>\n      <td>2023-04-12 18:07:30+00:00</td>\n      <td>280.0</td>\n      <td>131.38</td>\n      <td>0.0</td>\n      <td>0.00</td>\n      <td>0.0</td>\n      <td>0.0</td>\n      <td>8.0</td>\n      <td>0</td>\n      <td>0.000010</td>\n      <td>True</td>\n      <td>REGULAR</td>\n      <td>USD</td>\n    </tr>\n    <tr>\n      <th>3</th>\n      <td>SPY230414C00295000</td>\n      <td>2023-03-23 18:39:06+00:00</td>\n      <td>295.0</td>\n      <td>98.26</td>\n      <td>0.0</td>\n      <td>0.00</td>\n      <td>0.0</td>\n      <td>0.0</td>\n      <td>NaN</td>\n      <td>0</td>\n      <td>0.000010</td>\n      <td>True</td>\n      <td>REGULAR</td>\n      <td>USD</td>\n    </tr>\n    <tr>\n      <th>4</th>\n      <td>SPY230414C00300000</td>\n      <td>2023-04-10 15:31:36+00:00</td>\n      <td>300.0</td>\n      <td>107.70</td>\n      <td>0.0</td>\n      <td>0.00</td>\n      <td>0.0</td>\n      <td>0.0</td>\n      <td>2.0</td>\n      <td>0</td>\n      <td>0.000010</td>\n      <td>True</td>\n      <td>REGULAR</td>\n      <td>USD</td>\n    </tr>\n    <tr>\n      <th>...</th>\n      <td>...</td>\n      <td>...</td>\n      <td>...</td>\n      <td>...</td>\n      <td>...</td>\n      <td>...</td>\n      <td>...</td>\n      <td>...</td>\n      <td>...</td>\n      <td>...</td>\n      <td>...</td>\n      <td>...</td>\n      <td>...</td>\n      <td>...</td>\n    </tr>\n    <tr>\n      <th>109</th>\n      <td>SPY230414C00475000</td>\n      <td>2023-03-27 15:23:23+00:00</td>\n      <td>475.0</td>\n      <td>0.01</td>\n      <td>0.0</td>\n      <td>0.00</td>\n      <td>0.0</td>\n      <td>0.0</td>\n      <td>2.0</td>\n      <td>0</td>\n      <td>0.500005</td>\n      <td>False</td>\n      <td>REGULAR</td>\n      <td>USD</td>\n    </tr>\n    <tr>\n      <th>110</th>\n      <td>SPY230414C00480000</td>\n      <td>2023-03-28 13:30:11+00:00</td>\n      <td>480.0</td>\n      <td>0.01</td>\n      <td>0.0</td>\n      <td>0.00</td>\n      <td>0.0</td>\n      <td>0.0</td>\n      <td>1.0</td>\n      <td>0</td>\n      <td>0.500005</td>\n      <td>False</td>\n      <td>REGULAR</td>\n      <td>USD</td>\n    </tr>\n    <tr>\n      <th>111</th>\n      <td>SPY230414C00485000</td>\n      <td>2023-03-08 14:38:20+00:00</td>\n      <td>485.0</td>\n      <td>0.01</td>\n      <td>0.0</td>\n      <td>0.01</td>\n      <td>0.0</td>\n      <td>0.0</td>\n      <td>NaN</td>\n      <td>325</td>\n      <td>0.734378</td>\n      <td>False</td>\n      <td>REGULAR</td>\n      <td>USD</td>\n    </tr>\n    <tr>\n      <th>112</th>\n      <td>SPY230414C00490000</td>\n      <td>2023-03-28 13:30:11+00:00</td>\n      <td>490.0</td>\n      <td>0.01</td>\n      <td>0.0</td>\n      <td>0.00</td>\n      <td>0.0</td>\n      <td>0.0</td>\n      <td>NaN</td>\n      <td>0</td>\n      <td>0.500005</td>\n      <td>False</td>\n      <td>REGULAR</td>\n      <td>USD</td>\n    </tr>\n    <tr>\n      <th>113</th>\n      <td>SPY230414C00500000</td>\n      <td>2023-04-12 13:30:35+00:00</td>\n      <td>500.0</td>\n      <td>0.01</td>\n      <td>0.0</td>\n      <td>0.00</td>\n      <td>0.0</td>\n      <td>0.0</td>\n      <td>1.0</td>\n      <td>0</td>\n      <td>0.500005</td>\n      <td>False</td>\n      <td>REGULAR</td>\n      <td>USD</td>\n    </tr>\n  </tbody>\n</table>\n<p>114 rows × 14 columns</p>\n</div>"
     },
     "execution_count": 17,
     "metadata": {},
     "output_type": "execute_result"
    }
   ],
   "source": [
    "#show call options\n",
    "options.calls"
   ],
   "metadata": {
    "collapsed": false
   }
  },
  {
   "cell_type": "code",
   "execution_count": null,
   "outputs": [],
   "source": [],
   "metadata": {
    "collapsed": false
   }
  }
 ],
 "metadata": {
  "kernelspec": {
   "display_name": "Python 3",
   "language": "python",
   "name": "python3"
  },
  "language_info": {
   "codemirror_mode": {
    "name": "ipython",
    "version": 2
   },
   "file_extension": ".py",
   "mimetype": "text/x-python",
   "name": "python",
   "nbconvert_exporter": "python",
   "pygments_lexer": "ipython2",
   "version": "2.7.6"
  }
 },
 "nbformat": 4,
 "nbformat_minor": 0
}
